{
 "cells": [
  {
   "cell_type": "code",
   "execution_count": 2,
   "metadata": {},
   "outputs": [],
   "source": [
    "import pandas as pd\n",
    "import pandahouse as ph\n",
    "\n",
    "import requests\n",
    "from urllib.parse import urlencode"
   ]
  },
  {
   "cell_type": "markdown",
   "metadata": {},
   "source": [
    "## Задание 2. SQL"
   ]
  },
  {
   "cell_type": "markdown",
   "metadata": {},
   "source": [
    "### 2.1 Очень усердные ученики."
   ]
  },
  {
   "cell_type": "markdown",
   "metadata": {},
   "source": [
    "Образовательные курсы состоят из различных уроков, каждый из которых состоит из нескольких маленьких заданий. Каждое такое маленькое задание называется \"горошиной\".\n",
    "\n",
    "Назовём очень усердным учеником того пользователя, который хотя бы раз за текущий месяц правильно решил 20 горошин.\n",
    "Необходимо написать оптимальный запрос, который даст информацию о количестве очень усердных студентов за март 2020 года.\n",
    "\n",
    "NB! Под усердным студентом мы понимаем студента, который правильно решил 20 задач за текущий месяц."
   ]
  },
  {
   "cell_type": "markdown",
   "metadata": {},
   "source": [
    "Дана таблица `peas`:\n",
    "<br>\n",
    "<br>`st_id` (int) - ID ученика\n",
    "<br>`timest` (timestamp) - Время решения карточки\n",
    "<br>`correct` (bool) - Правильно ли решена горошина?\n",
    "<br>`subject` (text) - Дисциплина, в которой находится горошина"
   ]
  },
  {
   "cell_type": "code",
   "execution_count": 3,
   "metadata": {},
   "outputs": [],
   "source": [
    "# подключаемся к БД\n",
    "\n",
    "connection = dict(database='default',\n",
    "                  host='https://clickhouse.lab.karpov.courses',\n",
    "                  user='student',\n",
    "                  password='dpo_python_2020')"
   ]
  },
  {
   "cell_type": "code",
   "execution_count": 4,
   "metadata": {},
   "outputs": [
    {
     "data": {
      "text/html": [
       "<div>\n",
       "<style scoped>\n",
       "    .dataframe tbody tr th:only-of-type {\n",
       "        vertical-align: middle;\n",
       "    }\n",
       "\n",
       "    .dataframe tbody tr th {\n",
       "        vertical-align: top;\n",
       "    }\n",
       "\n",
       "    .dataframe thead th {\n",
       "        text-align: right;\n",
       "    }\n",
       "</style>\n",
       "<table border=\"1\" class=\"dataframe\">\n",
       "  <thead>\n",
       "    <tr style=\"text-align: right;\">\n",
       "      <th></th>\n",
       "      <th>num_of_studs</th>\n",
       "    </tr>\n",
       "  </thead>\n",
       "  <tbody>\n",
       "    <tr>\n",
       "      <th>0</th>\n",
       "      <td>0</td>\n",
       "    </tr>\n",
       "  </tbody>\n",
       "</table>\n",
       "</div>"
      ],
      "text/plain": [
       "   num_of_studs\n",
       "0             0"
      ]
     },
     "execution_count": 4,
     "metadata": {},
     "output_type": "execute_result"
    }
   ],
   "source": [
    "query_1 = \"\"\"\n",
    "SELECT COUNT(st_id) as num_of_studs\n",
    "FROM\n",
    "    (SELECT DISTINCT st_id \n",
    "    FROM peas\n",
    "    WHERE toStartOfMonth(timest) == '2020-03-01'\n",
    "    GROUP BY \n",
    "        st_id\n",
    "    HAVING  SUM(correct) >= 20)\n",
    "\"\"\"\n",
    "hardworking_studs = ph.read_clickhouse(query=query_1, connection=connection)\n",
    "hardworking_studs"
   ]
  },
  {
   "cell_type": "markdown",
   "metadata": {},
   "source": [
    "Таких учеников не оказалось."
   ]
  },
  {
   "cell_type": "markdown",
   "metadata": {},
   "source": [
    "### 2.2 Оптимизация воронки."
   ]
  },
  {
   "cell_type": "markdown",
   "metadata": {},
   "source": [
    "Образовательная платформа предлагает пройти студентам курсы по модели trial: студент может решить бесплатно лишь 30 горошин в день. Для неограниченного количества заданий в определенной дисциплине студенту необходимо приобрести полный доступ. Команда провела эксперимент, где был протестирован новый экран оплаты."
   ]
  },
  {
   "cell_type": "markdown",
   "metadata": {},
   "source": [
    "Даны три таблицы:\n",
    "1. `peas`\n",
    "\n",
    "<br>`st_id` (int) - ID ученика\n",
    "<br>`timest` (timestamp) - Время решения карточки\n",
    "<br>`correct` (bool) - Правильно ли решена горошина?\n",
    "<br>`subject` (text) - Дисциплина, в которой находится горошина\n",
    "<br>\n",
    "<br>\n",
    "\n",
    "2. `studs`\n",
    "\n",
    "<br>`st_id` (int) - ID ученика\n",
    "<br>`test_grp` (text) - Метка ученика в данном эксперименте\n",
    "<br>\n",
    "<br>\n",
    "\n",
    "3. `final_project_check`\n",
    "\n",
    "<br>`st_id` (int) - ID ученика\n",
    "<br>`sale_time` (timestamp) - Время покупки\n",
    "<br>`money` (int) - Цена, по которой приобрели данный курс\n",
    "<br>`subject` (text) - Дисциплина, на которую приобрели полный доступ"
   ]
  },
  {
   "cell_type": "markdown",
   "metadata": {},
   "source": [
    "Необходимо в одном запросе выгрузить следующую информацию о группах пользователей:\n",
    "\n",
    "* ARPU \n",
    "* ARPAU \n",
    "* CR в покупку \n",
    "* СR активного пользователя в покупку \n",
    "* CR пользователя из активности по математике (subject = ’math’) в покупку курса по математике"
   ]
  },
  {
   "cell_type": "code",
   "execution_count": 5,
   "metadata": {},
   "outputs": [
    {
     "data": {
      "text/html": [
       "<div>\n",
       "<style scoped>\n",
       "    .dataframe tbody tr th:only-of-type {\n",
       "        vertical-align: middle;\n",
       "    }\n",
       "\n",
       "    .dataframe tbody tr th {\n",
       "        vertical-align: top;\n",
       "    }\n",
       "\n",
       "    .dataframe thead th {\n",
       "        text-align: right;\n",
       "    }\n",
       "</style>\n",
       "<table border=\"1\" class=\"dataframe\">\n",
       "  <thead>\n",
       "    <tr style=\"text-align: right;\">\n",
       "      <th></th>\n",
       "      <th>test_grp</th>\n",
       "      <th>ARPU</th>\n",
       "      <th>ARPAU</th>\n",
       "      <th>CR_purchase</th>\n",
       "      <th>CR_purchase_active</th>\n",
       "      <th>CR_math</th>\n",
       "    </tr>\n",
       "  </thead>\n",
       "  <tbody>\n",
       "    <tr>\n",
       "      <th>0</th>\n",
       "      <td>control</td>\n",
       "      <td>4540.983607</td>\n",
       "      <td>8393.939394</td>\n",
       "      <td>0.049180</td>\n",
       "      <td>0.090909</td>\n",
       "      <td>0.056604</td>\n",
       "    </tr>\n",
       "    <tr>\n",
       "      <th>1</th>\n",
       "      <td>pilot</td>\n",
       "      <td>11508.474576</td>\n",
       "      <td>22832.167832</td>\n",
       "      <td>0.108475</td>\n",
       "      <td>0.209790</td>\n",
       "      <td>0.088889</td>\n",
       "    </tr>\n",
       "  </tbody>\n",
       "</table>\n",
       "</div>"
      ],
      "text/plain": [
       "  test_grp          ARPU         ARPAU  CR_purchase  CR_purchase_active  \\\n",
       "0  control   4540.983607   8393.939394     0.049180            0.090909   \n",
       "1    pilot  11508.474576  22832.167832     0.108475            0.209790   \n",
       "\n",
       "    CR_math  \n",
       "0  0.056604  \n",
       "1  0.088889  "
      ]
     },
     "execution_count": 5,
     "metadata": {},
     "output_type": "execute_result"
    }
   ],
   "source": [
    "query_metrics = \"\"\"\n",
    "\n",
    "WITH unique_users AS (\n",
    "    SELECT DISTINCT st_id, test_grp\n",
    "    FROM studs\n",
    "    GROUP BY st_id, test_grp\n",
    "    ),\n",
    "    all_data AS (\n",
    "    SELECT a.st_id AS st_id, \n",
    "        test_grp, \n",
    "        all_money, \n",
    "        math_money,\n",
    "        all_tasks,\n",
    "        all_math_tasks\n",
    "    FROM unique_users AS a\n",
    "    LEFT JOIN (SELECT st_id, \n",
    "                    SUM(money) AS all_money, \n",
    "                    sumIf(money, subject=='Math') AS math_money \n",
    "                FROM final_project_check \n",
    "                GROUP BY st_id) AS b \n",
    "    ON a.st_id == b.st_id\n",
    "    LEFT JOIN (SELECT st_id, \n",
    "                    COUNT(correct) AS all_tasks,  \n",
    "                    countIf(correct, subject=='Math') AS all_math_tasks \n",
    "                FROM peas \n",
    "                GROUP BY st_id) AS c \n",
    "    ON a.st_id == c.st_id\n",
    "    )\n",
    "    \n",
    "SELECT\n",
    "test_grp,\n",
    "SUM(all_money) / COUNT(st_id) as ARPU,\n",
    "sumIf(all_money, all_tasks > 0) / countIf(st_id, all_tasks > 0) as ARPAU,\n",
    "countIf(st_id, all_money > 0) / COUNT(st_id) as CR_purchase,\n",
    "countIf(st_id, all_money > 0 and all_tasks > 0) / countIf(st_id, all_tasks > 0) as CR_purchase_active,\n",
    "countIf(st_id, math_money > 0 and all_math_tasks > 0) / countIf(st_id, all_math_tasks > 0) as CR_math\n",
    "\n",
    "FROM all_data\n",
    "GROUP BY test_grp\n",
    "\"\"\" \n",
    "\n",
    "metrics = ph.read_clickhouse(query=query_metrics, connection=connection)\n",
    "metrics"
   ]
  }
 ],
 "metadata": {
  "kernelspec": {
   "display_name": "Python 3",
   "language": "python",
   "name": "python3"
  },
  "language_info": {
   "codemirror_mode": {
    "name": "ipython",
    "version": 3
   },
   "file_extension": ".py",
   "mimetype": "text/x-python",
   "name": "python",
   "nbconvert_exporter": "python",
   "pygments_lexer": "ipython3",
   "version": "3.7.3"
  }
 },
 "nbformat": 4,
 "nbformat_minor": 4
}
