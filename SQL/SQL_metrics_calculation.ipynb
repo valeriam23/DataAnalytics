{
 "cells": [
  {
   "cell_type": "markdown",
   "metadata": {},
   "source": [
    "## SQL example"
   ]
  },
  {
   "cell_type": "code",
   "execution_count": 1,
   "metadata": {},
   "outputs": [],
   "source": [
    "from dotenv import load_dotenv\n",
    "import os\n",
    "\n",
    "import pandas as pd\n",
    "import pandahouse as ph"
   ]
  },
  {
   "cell_type": "markdown",
   "metadata": {},
   "source": [
    "### 1. Find diligent students."
   ]
  },
  {
   "cell_type": "markdown",
   "metadata": {},
   "source": [
    "The courses on the platform consist of various lessons, each of which consists of several small tasks. Each such small task is called a \"pea\".\n",
    "\n",
    "A diligent student is a user who has correctly solved 20 peas at least once in the current month.\n",
    "Print information about the number of very diligent students for March 2020."
   ]
  },
  {
   "cell_type": "markdown",
   "metadata": {},
   "source": [
    "Table `peas`:\n",
    "<br>\n",
    "<br>`st_id` (int) - student id\n",
    "<br>`timest` (timestamp) - timestamp of submitted solution\n",
    "<br>`correct` (bool) - whether the solution was correct\n",
    "<br>`subject` (text) - subject of the \"pea\""
   ]
  },
  {
   "cell_type": "code",
   "execution_count": 6,
   "metadata": {},
   "outputs": [],
   "source": [
    "load_dotenv()\n",
    "host = os.getenv('DB_HOST')\n",
    "user = os.getenv('DB_USER')\n",
    "password = os.getenv('DB_PASSWORD')"
   ]
  },
  {
   "cell_type": "code",
   "execution_count": 7,
   "metadata": {},
   "outputs": [],
   "source": [
    "# connect to DB\n",
    "\n",
    "connection = dict(database='default',\n",
    "                  host=host,\n",
    "                  user=user,\n",
    "                  password=password)"
   ]
  },
  {
   "cell_type": "code",
   "execution_count": 8,
   "metadata": {},
   "outputs": [
    {
     "data": {
      "text/html": [
       "<div>\n",
       "<style scoped>\n",
       "    .dataframe tbody tr th:only-of-type {\n",
       "        vertical-align: middle;\n",
       "    }\n",
       "\n",
       "    .dataframe tbody tr th {\n",
       "        vertical-align: top;\n",
       "    }\n",
       "\n",
       "    .dataframe thead th {\n",
       "        text-align: right;\n",
       "    }\n",
       "</style>\n",
       "<table border=\"1\" class=\"dataframe\">\n",
       "  <thead>\n",
       "    <tr style=\"text-align: right;\">\n",
       "      <th></th>\n",
       "      <th>num_of_studs</th>\n",
       "    </tr>\n",
       "  </thead>\n",
       "  <tbody>\n",
       "    <tr>\n",
       "      <th>0</th>\n",
       "      <td>0</td>\n",
       "    </tr>\n",
       "  </tbody>\n",
       "</table>\n",
       "</div>"
      ],
      "text/plain": [
       "   num_of_studs\n",
       "0             0"
      ]
     },
     "execution_count": 8,
     "metadata": {},
     "output_type": "execute_result"
    }
   ],
   "source": [
    "q = \"\"\"\n",
    "SELECT COUNT(st_id) as num_of_studs\n",
    "FROM\n",
    "    (SELECT DISTINCT st_id \n",
    "    FROM peas\n",
    "    WHERE toStartOfMonth(timest) == '2020-03-01'\n",
    "    GROUP BY \n",
    "        st_id\n",
    "    HAVING  SUM(correct) >= 20)\n",
    "\"\"\"\n",
    "hardworking_studs = ph.read_clickhouse(query=q, connection=connection)\n",
    "hardworking_studs"
   ]
  },
  {
   "cell_type": "markdown",
   "metadata": {},
   "source": [
    "There are no such students :("
   ]
  },
  {
   "cell_type": "markdown",
   "metadata": {},
   "source": [
    "### 2. Product metrics."
   ]
  },
  {
   "cell_type": "markdown",
   "metadata": {},
   "source": [
    "The educational platform offers students to take courses on the trial model: a student can solve only 30 peas a day for free. A student needs to purchase full access to an unlimited number of tasks in a certain discipline. The team conducted an experiment where a new payment screen was tested."
   ]
  },
  {
   "cell_type": "markdown",
   "metadata": {},
   "source": [
    "There are three tables:\n",
    "1. `peas`\n",
    "\n",
    "<br>`st_id` (int) - student id\n",
    "<br>`timest` (timestamp) - timestamp of submitted solution\n",
    "<br>`correct` (bool) - whether the solution was correct\n",
    "<br>`subject` (text) - subject of the \"pea\"\n",
    "\n",
    "2. `studs`\n",
    "\n",
    "<br>`st_id` (int) - student id\n",
    "<br>`test_grp` (text) - test group (control or pilot)\n",
    "<br>\n",
    "<br>\n",
    "\n",
    "3. `final_project_check`\n",
    "\n",
    "<br>`st_id` (int) - student id\n",
    "<br>`sale_time` (timestamp) - timestamp of purchase\n",
    "<br>`money` (int) - price of the course\n",
    "<br>`subject` (text) - subject of the purchased course"
   ]
  },
  {
   "cell_type": "markdown",
   "metadata": {},
   "source": [
    "Print the following information about user groups in one request:\n",
    "* ARPU (average revenue per user)\n",
    "* ARPAU (average revenue per active user)\n",
    "* CR to purchase \n",
    "* СR active user to purchase\n",
    "* CR from math activity (subject = ’math’) to math course purchase"
   ]
  },
  {
   "cell_type": "code",
   "execution_count": 5,
   "metadata": {},
   "outputs": [
    {
     "data": {
      "text/html": [
       "<div>\n",
       "<style scoped>\n",
       "    .dataframe tbody tr th:only-of-type {\n",
       "        vertical-align: middle;\n",
       "    }\n",
       "\n",
       "    .dataframe tbody tr th {\n",
       "        vertical-align: top;\n",
       "    }\n",
       "\n",
       "    .dataframe thead th {\n",
       "        text-align: right;\n",
       "    }\n",
       "</style>\n",
       "<table border=\"1\" class=\"dataframe\">\n",
       "  <thead>\n",
       "    <tr style=\"text-align: right;\">\n",
       "      <th></th>\n",
       "      <th>test_grp</th>\n",
       "      <th>ARPU</th>\n",
       "      <th>ARPAU</th>\n",
       "      <th>CR_purchase</th>\n",
       "      <th>CR_purchase_active</th>\n",
       "      <th>CR_math</th>\n",
       "    </tr>\n",
       "  </thead>\n",
       "  <tbody>\n",
       "    <tr>\n",
       "      <th>0</th>\n",
       "      <td>control</td>\n",
       "      <td>4540.983607</td>\n",
       "      <td>8393.939394</td>\n",
       "      <td>0.049180</td>\n",
       "      <td>0.090909</td>\n",
       "      <td>0.056604</td>\n",
       "    </tr>\n",
       "    <tr>\n",
       "      <th>1</th>\n",
       "      <td>pilot</td>\n",
       "      <td>11508.474576</td>\n",
       "      <td>22832.167832</td>\n",
       "      <td>0.108475</td>\n",
       "      <td>0.209790</td>\n",
       "      <td>0.088889</td>\n",
       "    </tr>\n",
       "  </tbody>\n",
       "</table>\n",
       "</div>"
      ],
      "text/plain": [
       "  test_grp          ARPU         ARPAU  CR_purchase  CR_purchase_active  \\\n",
       "0  control   4540.983607   8393.939394     0.049180            0.090909   \n",
       "1    pilot  11508.474576  22832.167832     0.108475            0.209790   \n",
       "\n",
       "    CR_math  \n",
       "0  0.056604  \n",
       "1  0.088889  "
      ]
     },
     "execution_count": 5,
     "metadata": {},
     "output_type": "execute_result"
    }
   ],
   "source": [
    "query_metrics = \"\"\"\n",
    "WITH unique_users AS (\n",
    "    SELECT DISTINCT st_id, test_grp\n",
    "    FROM studs\n",
    "    GROUP BY st_id, test_grp\n",
    "    ),\n",
    "    all_data AS (\n",
    "    SELECT a.st_id AS st_id, \n",
    "        test_grp, \n",
    "        all_money, \n",
    "        math_money,\n",
    "        all_tasks,\n",
    "        all_math_tasks\n",
    "    FROM unique_users AS a\n",
    "    LEFT JOIN (SELECT st_id, \n",
    "                    SUM(money) AS all_money, \n",
    "                    sumIf(money, subject=='Math') AS math_money \n",
    "                FROM final_project_check \n",
    "                GROUP BY st_id) AS b \n",
    "    ON a.st_id == b.st_id\n",
    "    LEFT JOIN (SELECT st_id, \n",
    "                    COUNT(correct) AS all_tasks,  \n",
    "                    countIf(correct, subject=='Math') AS all_math_tasks \n",
    "                FROM peas \n",
    "                GROUP BY st_id) AS c \n",
    "    ON a.st_id == c.st_id\n",
    "    )\n",
    "    \n",
    "SELECT\n",
    "test_grp,\n",
    "SUM(all_money) / COUNT(st_id) as ARPU,\n",
    "sumIf(all_money, all_tasks > 0) / countIf(st_id, all_tasks > 0) as ARPAU,\n",
    "countIf(st_id, all_money > 0) / COUNT(st_id) as CR_purchase,\n",
    "countIf(st_id, all_money > 0 and all_tasks > 0) / countIf(st_id, all_tasks > 0) as CR_purchase_active,\n",
    "countIf(st_id, math_money > 0 and all_math_tasks > 0) / countIf(st_id, all_math_tasks > 0) as CR_math\n",
    "\n",
    "FROM all_data\n",
    "GROUP BY test_grp\n",
    "\"\"\" \n",
    "\n",
    "metrics = ph.read_clickhouse(query=query_metrics, connection=connection)\n",
    "metrics"
   ]
  }
 ],
 "metadata": {
  "kernelspec": {
   "display_name": "Python 3",
   "language": "python",
   "name": "python3"
  },
  "language_info": {
   "codemirror_mode": {
    "name": "ipython",
    "version": 3
   },
   "file_extension": ".py",
   "mimetype": "text/x-python",
   "name": "python",
   "nbconvert_exporter": "python",
   "pygments_lexer": "ipython3",
   "version": "3.8.5"
  }
 },
 "nbformat": 4,
 "nbformat_minor": 4
}
